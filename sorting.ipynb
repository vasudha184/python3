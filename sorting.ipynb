{
 "cells": [
  {
   "cell_type": "code",
   "execution_count": 3,
   "metadata": {},
   "outputs": [
    {
     "name": "stdout",
     "output_type": "stream",
     "text": [
      "item is found\n"
     ]
    }
   ],
   "source": [
    "def search(a,li,ri,tarItem):\n",
    "    while(li<=ri):\n",
    "        mi=li+(ri-li)//2\n",
    "        if(a[mi]>tarItem):\n",
    "            ri=mi-1\n",
    "        if(a[mi]==tarItem):\n",
    "            return mi\n",
    "        else:\n",
    "            li=mi+1\n",
    "        return-1\n",
    "list=[1,4,9,15,25,45,57,88,98]\n",
    "res=search(list,0,8,25)\n",
    "if(res!=1):\n",
    "    print(\"item is found\")\n",
    "else:\n",
    "    print(\"item is not found\")"
   ]
  },
  {
   "cell_type": "code",
   "execution_count": 11,
   "metadata": {},
   "outputs": [
    {
     "name": "stdout",
     "output_type": "stream",
     "text": [
      "2 5 6 7 19 23 30 "
     ]
    }
   ],
   "source": [
    "def bsort(a):\n",
    "    for i in range (len(a)-1):\n",
    "         for j in range (len(a)-1):\n",
    "                if(a[j]>a[j+1]):\n",
    "                    a[j],a[j+1]= a[j+1],a[j]\n",
    "    for i in range (len(a)): \n",
    "        print(a[i],end=\" \")\n",
    "list1=[19,2,5,6,7,23,30]  \n",
    "bsort(list1)"
   ]
  },
  {
   "cell_type": "code",
   "execution_count": 14,
   "metadata": {
    "collapsed": true
   },
   "outputs": [
    {
     "name": "stdout",
     "output_type": "stream",
     "text": [
      "application\n",
      "application\n",
      "application test\n",
      "        working\n",
      "        completed\n",
      "str[0]= a\n",
      "str[1]= p\n",
      "str[-1]= n\n",
      "str[1:5]= ppli\n",
      "str[:5]= appli\n",
      "str[2:5]= pli\n"
     ]
    }
   ],
   "source": [
    "str='application'\n",
    "print(str)\n",
    "str1='application'\n",
    "print(str1)\n",
    "str2=\"\"\"application test\n",
    "        working\n",
    "        completed\"\"\"\n",
    "print(str2)\n",
    "print(\"str[0]=\",str[0])\n",
    "print(\"str[1]=\",str[1])\n",
    "print(\"str[-1]=\",str[-1])\n",
    "print(\"str[1:5]=\",str[1:5])\n",
    "print(\"str[:5]=\",str[:5])\n",
    "print(\"str[2:5]=\",str[2:5])"
   ]
  },
  {
   "cell_type": "code",
   "execution_count": 22,
   "metadata": {},
   "outputs": [
    {
     "name": "stdout",
     "output_type": "stream",
     "text": [
      "True\n",
      "False\n"
     ]
    }
   ],
   "source": [
    "def palindrome(a):\n",
    "    if(a==a[::-1]):\n",
    "        return True\n",
    "    else:\n",
    "        return False\n",
    "print(palindrome(\"renner\"))    \n",
    "print(palindrome(\"python\"))      "
   ]
  },
  {
   "cell_type": "code",
   "execution_count": 24,
   "metadata": {},
   "outputs": [
    {
     "name": "stdout",
     "output_type": "stream",
     "text": [
      "enter the number 123456\n",
      "6\n"
     ]
    }
   ],
   "source": [
    "n=int(input(\"enter the number\"))\n",
    "cnt=0\n",
    "while(n!=0):\n",
    "    cnt=cnt+1\n",
    "    n=n//10\n",
    "print(cnt)    "
   ]
  },
  {
   "cell_type": "code",
   "execution_count": 26,
   "metadata": {},
   "outputs": [
    {
     "data": {
      "text/plain": [
       "7"
      ]
     },
     "execution_count": 26,
     "metadata": {},
     "output_type": "execute_result"
    }
   ],
   "source": [
    "def count(str):\n",
    "    return len(str)\n",
    "count(\"program\")"
   ]
  },
  {
   "cell_type": "code",
   "execution_count": 27,
   "metadata": {},
   "outputs": [
    {
     "data": {
      "text/plain": [
       "5"
      ]
     },
     "execution_count": 27,
     "metadata": {},
     "output_type": "execute_result"
    }
   ],
   "source": [
    "def count(n):\n",
    "    return len(n)\n",
    "count(\"12345\")"
   ]
  },
  {
   "cell_type": "code",
   "execution_count": 40,
   "metadata": {},
   "outputs": [
    {
     "name": "stdout",
     "output_type": "stream",
     "text": [
      "1\n",
      "2\n"
     ]
    }
   ],
   "source": [
    "def uppercase(str):\n",
    "    cnt=0\n",
    "    for i in str:\n",
    "        if(i>='A' and i<='Z'):\n",
    "            cnt=cnt+1\n",
    "            \n",
    "    return cnt        \n",
    "print(uppercase(\"Application\"))\n",
    "print(uppercase(\"TesT\"))"
   ]
  },
  {
   "cell_type": "code",
   "execution_count": 59,
   "metadata": {},
   "outputs": [
    {
     "name": "stdout",
     "output_type": "stream",
     "text": [
      "1 2 3 6 "
     ]
    }
   ],
   "source": [
    "def digit(str):\n",
    "    for i in str:\n",
    "        if(i>='1' and i<='9'):\n",
    "            print(i,end=' ')    \n",
    "digit(\"app12lic3ation6\")"
   ]
  },
  {
   "cell_type": "code",
   "execution_count": null,
   "metadata": {},
   "outputs": [],
   "source": [
    "def digit(str):\n",
    "    sum=0\n",
    "    for i in str:\n",
    "        if(i>='1' and i<='9'):\n",
    "            print(i,end=' ')    \n",
    "    return sum        \n",
    "print(digit(\"app12lic3ation6\"))"
   ]
  }
 ],
 "metadata": {
  "kernelspec": {
   "display_name": "Python 3",
   "language": "python",
   "name": "python3"
  },
  "language_info": {
   "codemirror_mode": {
    "name": "ipython",
    "version": 3
   },
   "file_extension": ".py",
   "mimetype": "text/x-python",
   "name": "python",
   "nbconvert_exporter": "python",
   "pygments_lexer": "ipython3",
   "version": "3.7.3"
  }
 },
 "nbformat": 4,
 "nbformat_minor": 2
}

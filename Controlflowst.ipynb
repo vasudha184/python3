{
 "cells": [
  {
   "cell_type": "code",
   "execution_count": 3,
   "metadata": {},
   "outputs": [
    {
     "name": "stdout",
     "output_type": "stream",
     "text": [
      "the number is less than 15\n"
     ]
    }
   ],
   "source": [
    "x=10\n",
    "if(x<15):\n",
    "    print(\"the number is less than 15\")\n",
    "    "
   ]
  },
  {
   "cell_type": "code",
   "execution_count": 4,
   "metadata": {},
   "outputs": [],
   "source": [
    "x=10\n",
    "if(x>15):\n",
    "    print(\"hello\")\n",
    "    "
   ]
  },
  {
   "cell_type": "code",
   "execution_count": 8,
   "metadata": {},
   "outputs": [
    {
     "name": "stdout",
     "output_type": "stream",
     "text": [
      "hello good afternoon\n"
     ]
    }
   ],
   "source": [
    "x=10\n",
    "if(x>15):\n",
    "    print(\"hello good morning\")\n",
    "else:\n",
    "    print(\"hello good afternoon\")\n",
    "    \n",
    "    "
   ]
  },
  {
   "cell_type": "code",
   "execution_count": 9,
   "metadata": {},
   "outputs": [
    {
     "name": "stdout",
     "output_type": "stream",
     "text": [
      "x is greater than y\n"
     ]
    }
   ],
   "source": [
    "x=8\n",
    "y=2\n",
    "if(x>y):\n",
    "    print(\"x is greater than y\")\n",
    "else:\n",
    "    print(\"y is greater than x\")\n"
   ]
  },
  {
   "cell_type": "code",
   "execution_count": 13,
   "metadata": {},
   "outputs": [
    {
     "name": "stdout",
     "output_type": "stream",
     "text": [
      "z is greater\n"
     ]
    }
   ],
   "source": [
    "x=8\n",
    "y=2\n",
    "z=10\n",
    "if(x>y and x>z):\n",
    "    print(\"x is greater\")\n",
    "if(y>x and y>z):\n",
    "    print(\"y is greater\")\n",
    "else:\n",
    "     print(\"z is greater\")"
   ]
  },
  {
   "cell_type": "code",
   "execution_count": 18,
   "metadata": {},
   "outputs": [
    {
     "name": "stdout",
     "output_type": "stream",
     "text": [
      "x is positive\n",
      "x is negitive \n",
      "x is zero\n"
     ]
    }
   ],
   "source": [
    "x=13\n",
    "if(x==0):\n",
    "    print(\"x is zero\")\n",
    "elif(x>0):\n",
    "    print(\"x is positive\")\n",
    "else: \n",
    "    print(\"x is negitive \")\n",
    "    \n",
    "x=-4\n",
    "if(x==0):\n",
    "    print(\"x is zero\")\n",
    "elif(x>0):\n",
    "    print(\"x is positive\")\n",
    "else: \n",
    "    print(\"x is negitive \")\n",
    "    \n",
    "x=0\n",
    "if(x==0):\n",
    "    print(\"x is zero\")\n",
    "elif(x>0):\n",
    "    print(\"x is positive\")\n",
    "else: \n",
    "    print(\"x is negitive \")\n",
    "    \n",
    "    \n",
    "    \n",
    "    "
   ]
  },
  {
   "cell_type": "code",
   "execution_count": 20,
   "metadata": {},
   "outputs": [
    {
     "name": "stdout",
     "output_type": "stream",
     "text": [
      "1\n",
      "2\n",
      "3\n",
      "4\n",
      "5\n",
      "6\n",
      "7\n",
      "8\n",
      "9\n",
      "10\n"
     ]
    }
   ],
   "source": [
    "n=1\n",
    "while(n<=10):\n",
    "    print(n)\n",
    "    n=n+1\n"
   ]
  },
  {
   "cell_type": "code",
   "execution_count": 23,
   "metadata": {},
   "outputs": [
    {
     "name": "stdout",
     "output_type": "stream",
     "text": [
      "10\n",
      "9\n",
      "8\n",
      "7\n",
      "6\n",
      "5\n",
      "4\n",
      "3\n",
      "2\n",
      "1\n"
     ]
    }
   ],
   "source": [
    "n=10\n",
    "while(n>=1):\n",
    "    print(n)\n",
    "    n=n-1\n"
   ]
  },
  {
   "cell_type": "code",
   "execution_count": 2,
   "metadata": {},
   "outputs": [
    {
     "name": "stdout",
     "output_type": "stream",
     "text": [
      "2\n",
      "4\n",
      "6\n",
      "8\n",
      "10\n"
     ]
    }
   ],
   "source": [
    "n=1\n",
    "while(n<=10):\n",
    "    if(n%2==0):\n",
    "        print(n)\n",
    "    n=n+1;"
   ]
  },
  {
   "cell_type": "code",
   "execution_count": 5,
   "metadata": {},
   "outputs": [
    {
     "name": "stdout",
     "output_type": "stream",
     "text": [
      "-22\n",
      "-23\n",
      "-24\n",
      "-25\n",
      "-26\n",
      "-27\n",
      "-28\n",
      "-29\n",
      "-30\n",
      "-31\n",
      "-32\n",
      "-33\n",
      "-34\n",
      "-35\n",
      "-36\n",
      "-37\n",
      "-38\n",
      "-39\n",
      "-40\n",
      "-41\n",
      "-42\n",
      "-43\n",
      "-44\n",
      "-45\n"
     ]
    }
   ],
   "source": [
    "n=-22\n",
    "while(n>=-45):\n",
    "    print(n)\n",
    "    n=n-1"
   ]
  },
  {
   "cell_type": "code",
   "execution_count": 4,
   "metadata": {},
   "outputs": [
    {
     "name": "stdout",
     "output_type": "stream",
     "text": [
      "2550\n"
     ]
    }
   ],
   "source": [
    "x=1\n",
    "sum=0\n",
    "while(x<=100):\n",
    "    if(x%2==0):\n",
    "         sum=sum+x\n",
    "    x=x+1\n",
    "print(sum)"
   ]
  },
  {
   "cell_type": "code",
   "execution_count": 1,
   "metadata": {},
   "outputs": [
    {
     "name": "stdout",
     "output_type": "stream",
     "text": [
      "enter the lower limit1\n",
      "enter the upper limit100\n",
      "2450\n"
     ]
    }
   ],
   "source": [
    "x=int(input(\"enter the lower limit\"))\n",
    "y=int(input(\"enter the upper limit\"))\n",
    "sum=0\n",
    "while(x!=y):\n",
    "    if(x%2==0):\n",
    "        sum=sum+x \n",
    "    x=x+1\n",
    "print(sum)    "
   ]
  },
  {
   "cell_type": "code",
   "execution_count": 3,
   "metadata": {},
   "outputs": [
    {
     "name": "stdout",
     "output_type": "stream",
     "text": [
      "enter the number345\n",
      "5\n",
      "4\n",
      "3\n"
     ]
    }
   ],
   "source": [
    "x=int(input(\"enter the number\"))\n",
    "while(x!=0):\n",
    "    r=x%10\n",
    "    print(r)\n",
    "    x=x//10"
   ]
  },
  {
   "cell_type": "code",
   "execution_count": 5,
   "metadata": {},
   "outputs": [
    {
     "name": "stdout",
     "output_type": "stream",
     "text": [
      "enter the number245\n",
      "5\n",
      "4\n",
      "2\n",
      "the sum of even numbers is\n",
      "6\n"
     ]
    }
   ],
   "source": [
    "x=int(input(\"enter the number\"))\n",
    "sum=0\n",
    "while(x!=0):\n",
    "    r=x%10\n",
    "    print(r)\n",
    "    x=x//10\n",
    "    if(r%2==0):\n",
    "        sum=sum+r\n",
    "print(\"the sum of even numbers is\")\n",
    "print(sum)\n",
    "        \n",
    "    "
   ]
  },
  {
   "cell_type": "code",
   "execution_count": 1,
   "metadata": {},
   "outputs": [
    {
     "name": "stdout",
     "output_type": "stream",
     "text": [
      "enter the number568\n",
      "eight six five "
     ]
    }
   ],
   "source": [
    "x=int(input(\"enter the number\"))\n",
    "while(x!=0):\n",
    "    r=x%10\n",
    "    if(r==0):\n",
    "        print(\"zero\",end=' ')\n",
    "    elif(r==1):\n",
    "        print(\"one\",end=' ')\n",
    "    elif(r==2):\n",
    "        print(\"two\",end=' ')    \n",
    "    elif(r==3):\n",
    "        print(\"three\",end=' ')\n",
    "    elif(r==4):\n",
    "        print(\"four\",end=' ')\n",
    "    elif(r==5):\n",
    "        print(\"five\",end=' ')\n",
    "    elif(r==6):\n",
    "        print(\"six\",end=' ')\n",
    "    elif(r==7):\n",
    "        print(\"seven\",end=' ')\n",
    "    elif(r==8):\n",
    "        print(\"eight\",end=' ')\n",
    "    elif(r==9):\n",
    "        print(\"nine\",end=' ') \n",
    "        \n",
    "        \n",
    "    x=x//10\n",
    "    "
   ]
  },
  {
   "cell_type": "code",
   "execution_count": 9,
   "metadata": {},
   "outputs": [
    {
     "name": "stdout",
     "output_type": "stream",
     "text": [
      "enter the number 6\n",
      "enter the lower limit 60\n",
      "enter the upper limit 65\n",
      "5\n"
     ]
    }
   ],
   "source": [
    "x=int(input(\"enter the number\"))\n",
    "y=int(input(\"enter the lower limit\"))\n",
    "z=int(input(\"enter the upper limit\"))\n",
    "cnt=0\n",
    "while(y!=z):\n",
    "    buffer=y\n",
    "    while(y!=0):\n",
    "        r=y%10\n",
    "        if(r==x):\n",
    "            cnt=cnt+1\n",
    "        y=y//10 \n",
    "    y=buffer\n",
    "    y=y+1\n",
    "    \n",
    "print(cnt)    \n"
   ]
  },
  {
   "cell_type": "code",
   "execution_count": 8,
   "metadata": {},
   "outputs": [
    {
     "name": "stdout",
     "output_type": "stream",
     "text": [
      "1 2 3 4 5 6 7 8 9 \n",
      "1 2 3 4 5 6 7 8 9 10 11 12 13 14 15 \n"
     ]
    }
   ],
   "source": [
    "def printNaturalNumbers(n):\n",
    "    cnt=1\n",
    "    while(cnt<=n):\n",
    "        print(cnt,end=' ')\n",
    "        cnt=cnt+1\n",
    "    print()\n",
    "    return\n",
    "\n",
    "printNaturalNumbers(9)\n",
    "printNaturalNumbers(15)"
   ]
  },
  {
   "cell_type": "code",
   "execution_count": 14,
   "metadata": {},
   "outputs": [
    {
     "name": "stdout",
     "output_type": "stream",
     "text": [
      "720\n",
      "39916800\n"
     ]
    }
   ],
   "source": [
    "def findfact(n):\n",
    "    fact=1\n",
    "    while(n!=0):\n",
    "        fact=fact*n\n",
    "        n=n-1\n",
    "    return fact\n",
    "print(findfact(6))\n",
    "print(findfact(11))"
   ]
  },
  {
   "cell_type": "code",
   "execution_count": 4,
   "metadata": {},
   "outputs": [
    {
     "name": "stdout",
     "output_type": "stream",
     "text": [
      "2\n"
     ]
    }
   ],
   "source": [
    "def palincount(n1,n2):\n",
    "    c=0\n",
    "    while(n1<=n2):\n",
    "        buffer=n1\n",
    "        s=0\n",
    "        while(n1>0):\n",
    "            r=n1%10\n",
    "            s=(s*10)+r\n",
    "            n1=n1//10\n",
    "        if(buffer==s):\n",
    "            c=c+1\n",
    "        n1=buffer        \n",
    "        n1=n1+1\n",
    "    return c\n",
    "print(palincount(10,30))\n",
    "    "
   ]
  },
  {
   "cell_type": "code",
   "execution_count": null,
   "metadata": {},
   "outputs": [],
   "source": []
  }
 ],
 "metadata": {
  "kernelspec": {
   "display_name": "Python 3",
   "language": "python",
   "name": "python3"
  }
 },
 "nbformat": 4,
 "nbformat_minor": 2
}

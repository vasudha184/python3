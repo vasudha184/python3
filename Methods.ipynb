{
 "cells": [
  {
   "cell_type": "code",
   "execution_count": 8,
   "metadata": {},
   "outputs": [
    {
     "name": "stdout",
     "output_type": "stream",
     "text": [
      "False\n",
      "True\n"
     ]
    }
   ],
   "source": [
    "s=\"Python\"\n",
    "s1=\"python\"\n",
    "print(s.islower())\n",
    "print(s1.islower())"
   ]
  },
  {
   "cell_type": "code",
   "execution_count": 4,
   "metadata": {},
   "outputs": [
    {
     "name": "stdout",
     "output_type": "stream",
     "text": [
      "False\n",
      "True\n"
     ]
    }
   ],
   "source": [
    "s=\"Application\"\n",
    "s1='A'\n",
    "print(s.isupper())\n",
    "print(s1.isupper())"
   ]
  },
  {
   "cell_type": "code",
   "execution_count": 7,
   "metadata": {},
   "outputs": [
    {
     "name": "stdout",
     "output_type": "stream",
     "text": [
      "python\n"
     ]
    }
   ],
   "source": [
    "s=\"PYTHON\"\n",
    "print(s.lower())"
   ]
  },
  {
   "cell_type": "code",
   "execution_count": 6,
   "metadata": {},
   "outputs": [
    {
     "name": "stdout",
     "output_type": "stream",
     "text": [
      "PYTHON\n"
     ]
    }
   ],
   "source": [
    "s=\"python\"\n",
    "print(s.upper())"
   ]
  },
  {
   "cell_type": "code",
   "execution_count": 9,
   "metadata": {},
   "outputs": [
    {
     "name": "stdout",
     "output_type": "stream",
     "text": [
      "True\n",
      "False\n"
     ]
    }
   ],
   "source": [
    "s=\"12345\"\n",
    "s1=\"appl8934\"\n",
    "print(s.isnumeric())\n",
    "print(s1.isnumeric())"
   ]
  },
  {
   "cell_type": "code",
   "execution_count": 10,
   "metadata": {},
   "outputs": [
    {
     "name": "stdout",
     "output_type": "stream",
     "text": [
      "False\n",
      "True\n"
     ]
    }
   ],
   "source": [
    "s=\"12345\"\n",
    "s1=\"application\"\n",
    "print(s.isalpha())\n",
    "print(s1.isalpha())"
   ]
  },
  {
   "cell_type": "code",
   "execution_count": 11,
   "metadata": {},
   "outputs": [
    {
     "name": "stdout",
     "output_type": "stream",
     "text": [
      "True\n",
      "False\n"
     ]
    }
   ],
   "source": [
    "s=\"Application\"\n",
    "s1=\"application\"\n",
    "print(s.istitle())\n",
    "print(s1.istitle())"
   ]
  },
  {
   "cell_type": "code",
   "execution_count": 17,
   "metadata": {},
   "outputs": [
    {
     "name": "stdout",
     "output_type": "stream",
     "text": [
      "True\n",
      "False\n"
     ]
    }
   ],
   "source": [
    "s=\"\\t\"\n",
    "s1=\"application\"\n",
    "print(s.isspace())\n",
    "print(s1.isspace())"
   ]
  },
  {
   "cell_type": "code",
   "execution_count": 20,
   "metadata": {},
   "outputs": [
    {
     "name": "stdout",
     "output_type": "stream",
     "text": [
      "a p p l i c a t i o n\n"
     ]
    }
   ],
   "source": [
    "s=\"application\"\n",
    "print(\" \".join(s))"
   ]
  },
  {
   "cell_type": "code",
   "execution_count": 22,
   "metadata": {},
   "outputs": [
    {
     "name": "stdout",
     "output_type": "stream",
     "text": [
      "python,application\n"
     ]
    }
   ],
   "source": [
    "print(\",\".join([\"python\",\"application\"]))"
   ]
  },
  {
   "cell_type": "code",
   "execution_count": 25,
   "metadata": {},
   "outputs": [
    {
     "name": "stdout",
     "output_type": "stream",
     "text": [
      "['python,programming']\n",
      "['pyth', 'n,pr', 'gramming']\n",
      "['python', 'programming']\n"
     ]
    }
   ],
   "source": [
    "s=\"python,programming\"\n",
    "print(s.split())    \n",
    "print(s.split(\"o\"))\n",
    "print(s.split(\",\"))         "
   ]
  },
  {
   "cell_type": "code",
   "execution_count": 28,
   "metadata": {},
   "outputs": [
    {
     "name": "stdout",
     "output_type": "stream",
     "text": [
      "['pyhton', 'programming', 'is', 'easy']\n",
      "2\n"
     ]
    }
   ],
   "source": [
    "s=\"pyhton programming is easy\"\n",
    "list=s.split()\n",
    "print(list)\n",
    "print(list.index(\"is\"))"
   ]
  },
  {
   "cell_type": "code",
   "execution_count": 27,
   "metadata": {},
   "outputs": [
    {
     "name": "stdout",
     "output_type": "stream",
     "text": [
      "['pyhton', 'programming', 'is', 'easy']\n"
     ]
    }
   ],
   "source": [
    "s=\"pyhton programming is easy\"\n",
    "list=s.split()\n",
    "print(list)"
   ]
  },
  {
   "cell_type": "code",
   "execution_count": 2,
   "metadata": {},
   "outputs": [
    {
     "name": "stdout",
     "output_type": "stream",
     "text": [
      "['p', 'y', 't', 'h', 'o', 'n', ' ', 'p', 'r', 'o', 'g', 'r', 'a', 'm', 'm', 'i', 'n', 'g', ' ', 'i', 's', ' ', 'e', 'a', 's', 'y']\n"
     ]
    }
   ],
   "source": [
    "s=\"python programming is easy\"\n",
    "lst=list(s)\n",
    "print(lst)"
   ]
  },
  {
   "cell_type": "code",
   "execution_count": 4,
   "metadata": {},
   "outputs": [
    {
     "name": "stdout",
     "output_type": "stream",
     "text": [
      "python proapplicationmming\n"
     ]
    }
   ],
   "source": [
    "s=\"python programming\"\n",
    "print(s.replace(\"gra\",\"application\"))"
   ]
  },
  {
   "cell_type": "code",
   "execution_count": 5,
   "metadata": {},
   "outputs": [
    {
     "name": "stdout",
     "output_type": "stream",
     "text": [
      "('python', 'programming', 1989, 2019, 'machine learning', 'AI')\n",
      "(1, 2, 3, 4, 5)\n"
     ]
    }
   ],
   "source": [
    "t1=(\"python\",\"programming\",1989,2019,\"machine learning\",\"AI\")\n",
    "t2=(1,2,3,4,5)\n",
    "print(t1)\n",
    "print(t2)"
   ]
  },
  {
   "cell_type": "code",
   "execution_count": 13,
   "metadata": {},
   "outputs": [
    {
     "name": "stdout",
     "output_type": "stream",
     "text": [
      "t1[0]= python\n",
      "AI\n",
      "('programming', 1989, 2019, 'machine learning')\n",
      "()\n",
      "('programming', 1989, 2019)\n",
      "(1989, 2019)\n"
     ]
    }
   ],
   "source": [
    "t1=(\"python\",\"programming\",1989,2019,\"machine learning\",\"AI\")\n",
    "print(\"t1[0]=\",t1[0])\n",
    "print(t1[-1])\n",
    "print(t1[1:5])\n",
    "print(t1[-1:-5])\n",
    "print(t1[1:4])\n",
    "print(t1[2:-2])"
   ]
  },
  {
   "cell_type": "code",
   "execution_count": 3,
   "metadata": {},
   "outputs": [
    {
     "name": "stdout",
     "output_type": "stream",
     "text": [
      "('python', 'programming', 1989, 2019, 'machine learning', 'AI')\n"
     ]
    },
    {
     "ename": "NameError",
     "evalue": "name 't1' is not defined",
     "output_type": "error",
     "traceback": [
      "\u001b[0;31m---------------------------------------------------------------------------\u001b[0m",
      "\u001b[0;31mNameError\u001b[0m                                 Traceback (most recent call last)",
      "\u001b[0;32m<ipython-input-3-4224b1fa87c5>\u001b[0m in \u001b[0;36m<module>\u001b[0;34m\u001b[0m\n\u001b[1;32m      2\u001b[0m \u001b[0mprint\u001b[0m\u001b[0;34m(\u001b[0m\u001b[0mt1\u001b[0m\u001b[0;34m)\u001b[0m\u001b[0;34m\u001b[0m\u001b[0;34m\u001b[0m\u001b[0m\n\u001b[1;32m      3\u001b[0m \u001b[0;32mdel\u001b[0m \u001b[0mt1\u001b[0m\u001b[0;34m\u001b[0m\u001b[0;34m\u001b[0m\u001b[0m\n\u001b[0;32m----> 4\u001b[0;31m \u001b[0mprint\u001b[0m\u001b[0;34m(\u001b[0m\u001b[0mt1\u001b[0m\u001b[0;34m)\u001b[0m\u001b[0;34m\u001b[0m\u001b[0;34m\u001b[0m\u001b[0m\n\u001b[0m",
      "\u001b[0;31mNameError\u001b[0m: name 't1' is not defined"
     ]
    }
   ],
   "source": [
    "t1=(\"python\",\"programming\",1989,2019,\"machine learning\",\"AI\")\n",
    "print(t1)\n",
    "del t1\n",
    "print(t1)"
   ]
  },
  {
   "cell_type": "code",
   "execution_count": 4,
   "metadata": {},
   "outputs": [
    {
     "name": "stdout",
     "output_type": "stream",
     "text": [
      "('python', 'programming', 1989, 2019, 'machine learning', 'AI')\n"
     ]
    }
   ],
   "source": [
    "t1=(\"python\",\"programming\")\n",
    "t2=(1989,2019,\"machine learning\",\"AI\")\n",
    "t3=t1+t2\n",
    "print(t3)"
   ]
  },
  {
   "cell_type": "code",
   "execution_count": 7,
   "metadata": {},
   "outputs": [
    {
     "name": "stdout",
     "output_type": "stream",
     "text": [
      "6\n"
     ]
    },
    {
     "ename": "TypeError",
     "evalue": "'>' not supported between instances of 'int' and 'str'",
     "output_type": "error",
     "traceback": [
      "\u001b[0;31m---------------------------------------------------------------------------\u001b[0m",
      "\u001b[0;31mTypeError\u001b[0m                                 Traceback (most recent call last)",
      "\u001b[0;32m<ipython-input-7-ec0b3fe82faf>\u001b[0m in \u001b[0;36m<module>\u001b[0;34m\u001b[0m\n\u001b[1;32m      1\u001b[0m \u001b[0mt1\u001b[0m\u001b[0;34m=\u001b[0m\u001b[0;34m(\u001b[0m\u001b[0;34m\"python\"\u001b[0m\u001b[0;34m,\u001b[0m\u001b[0;34m\"programming\"\u001b[0m\u001b[0;34m,\u001b[0m\u001b[0;36m1989\u001b[0m\u001b[0;34m,\u001b[0m\u001b[0;36m2019\u001b[0m\u001b[0;34m,\u001b[0m\u001b[0;34m\"machine learning\"\u001b[0m\u001b[0;34m,\u001b[0m\u001b[0;34m\"AI\"\u001b[0m\u001b[0;34m)\u001b[0m\u001b[0;34m\u001b[0m\u001b[0;34m\u001b[0m\u001b[0m\n\u001b[1;32m      2\u001b[0m \u001b[0mprint\u001b[0m\u001b[0;34m(\u001b[0m\u001b[0mlen\u001b[0m\u001b[0;34m(\u001b[0m\u001b[0mt1\u001b[0m\u001b[0;34m)\u001b[0m\u001b[0;34m)\u001b[0m\u001b[0;34m\u001b[0m\u001b[0;34m\u001b[0m\u001b[0m\n\u001b[0;32m----> 3\u001b[0;31m \u001b[0mprint\u001b[0m\u001b[0;34m(\u001b[0m\u001b[0mmax\u001b[0m\u001b[0;34m(\u001b[0m\u001b[0mt1\u001b[0m\u001b[0;34m)\u001b[0m\u001b[0;34m)\u001b[0m\u001b[0;34m\u001b[0m\u001b[0;34m\u001b[0m\u001b[0m\n\u001b[0m",
      "\u001b[0;31mTypeError\u001b[0m: '>' not supported between instances of 'int' and 'str'"
     ]
    }
   ],
   "source": [
    "t1=(\"python\",\"programming\",1989,2019,\"machine learning\",\"AI\")  \n",
    "print(len(t1))\n",
    "print(max(t1))"
   ]
  },
  {
   "cell_type": "code",
   "execution_count": 6,
   "metadata": {},
   "outputs": [
    {
     "name": "stdout",
     "output_type": "stream",
     "text": [
      "5\n",
      "1\n"
     ]
    }
   ],
   "source": [
    "t1=(1,2,3,4,5)\n",
    "print(max(t1))\n",
    "print(min(t1))"
   ]
  },
  {
   "cell_type": "code",
   "execution_count": 8,
   "metadata": {},
   "outputs": [
    {
     "name": "stdout",
     "output_type": "stream",
     "text": [
      "(1, 2, 3, 4, 5)\n",
      "(1, 2, 3, 4, 5)\n"
     ]
    },
    {
     "ename": "NameError",
     "evalue": "name 'cmp' is not defined",
     "output_type": "error",
     "traceback": [
      "\u001b[0;31m---------------------------------------------------------------------------\u001b[0m",
      "\u001b[0;31mNameError\u001b[0m                                 Traceback (most recent call last)",
      "\u001b[0;32m<ipython-input-8-660e0ff55bf9>\u001b[0m in \u001b[0;36m<module>\u001b[0;34m\u001b[0m\n\u001b[1;32m      3\u001b[0m \u001b[0mprint\u001b[0m\u001b[0;34m(\u001b[0m\u001b[0mt1\u001b[0m\u001b[0;34m)\u001b[0m\u001b[0;34m\u001b[0m\u001b[0;34m\u001b[0m\u001b[0m\n\u001b[1;32m      4\u001b[0m \u001b[0mprint\u001b[0m\u001b[0;34m(\u001b[0m\u001b[0mt2\u001b[0m\u001b[0;34m)\u001b[0m\u001b[0;34m\u001b[0m\u001b[0;34m\u001b[0m\u001b[0m\n\u001b[0;32m----> 5\u001b[0;31m \u001b[0ma\u001b[0m\u001b[0;34m=\u001b[0m\u001b[0mcmp\u001b[0m\u001b[0;34m(\u001b[0m\u001b[0mt1\u001b[0m\u001b[0;34m,\u001b[0m\u001b[0mt2\u001b[0m\u001b[0;34m)\u001b[0m\u001b[0;34m\u001b[0m\u001b[0;34m\u001b[0m\u001b[0m\n\u001b[0m\u001b[1;32m      6\u001b[0m \u001b[0mprint\u001b[0m\u001b[0;34m(\u001b[0m\u001b[0ma\u001b[0m\u001b[0;34m)\u001b[0m\u001b[0;34m\u001b[0m\u001b[0;34m\u001b[0m\u001b[0m\n",
      "\u001b[0;31mNameError\u001b[0m: name 'cmp' is not defined"
     ]
    }
   ],
   "source": [
    "t1=(1,2,3,4,5)\n",
    "t2=(1,2,3,4,5)\n",
    "print(t1)\n",
    "print(t2)\n",
    "a=cmp(t1,t2)\n",
    "print(a)"
   ]
  },
  {
   "cell_type": "code",
   "execution_count": 10,
   "metadata": {},
   "outputs": [
    {
     "name": "stdout",
     "output_type": "stream",
     "text": [
      "['python', 'programming', 1989, 2019, 'machine learning', 'AI']\n",
      "('python', 'programming', 1989, 2019, 'machine learning', 'AI')\n"
     ]
    }
   ],
   "source": [
    "list1=[\"python\",\"programming\",1989,2019,\"machine learning\",\"AI\"]\n",
    "print(list1)\n",
    "t1=tuple(list1)\n",
    "print(t1)"
   ]
  },
  {
   "cell_type": "code",
   "execution_count": 14,
   "metadata": {},
   "outputs": [
    {
     "name": "stdout",
     "output_type": "stream",
     "text": [
      "user1[name]= vasudha\n",
      "user1[age]= 18\n",
      "user1[contact no]= 9857643227\n",
      "user1[email]= vasu2135@gmail.com\n"
     ]
    }
   ],
   "source": [
    "user1={'name':'vasudha','age': 18,'contact no': 9857643227,'email':'vasu2135@gmail.com'}\n",
    "print(\"user1[name]=\",user1['name'])\n",
    "print(\"user1[age]=\",user1['age'])\n",
    "print(\"user1[contact no]=\",user1['contact no'])\n",
    "print(\"user1[email]=\",user1['email'])"
   ]
  },
  {
   "cell_type": "code",
   "execution_count": 17,
   "metadata": {},
   "outputs": [
    {
     "name": "stdout",
     "output_type": "stream",
     "text": [
      "user1[email]= vasu2135@gmail.com\n",
      "user1[email]= vasudha345@gmail.com\n",
      "user1[address]= hyderabad\n"
     ]
    }
   ],
   "source": [
    "user1={'name':'vasudha','age': 18,'contact no': 9857643227,'email':'vasu2135@gmail.com'}\n",
    "print(\"user1[email]=\",user1['email'])\n",
    "user1['email']='vasudha345@gmail.com'\n",
    "print(\"user1[email]=\",user1['email'])\n",
    "user1['address']='hyderabad'\n",
    "print(\"user1[address]=\",user1['address'])"
   ]
  },
  {
   "cell_type": "code",
   "execution_count": 20,
   "metadata": {},
   "outputs": [],
   "source": [
    "user1={'name':'vasudha','age': 18,'contact no': 9857643227,'email':'vasu2135@gmail.com'}\n",
    "del (user1['email'])\n",
    "user1.clear()\n",
    "del user1"
   ]
  },
  {
   "cell_type": "code",
   "execution_count": 21,
   "metadata": {},
   "outputs": [
    {
     "name": "stdout",
     "output_type": "stream",
     "text": [
      "4\n",
      "5\n"
     ]
    }
   ],
   "source": [
    "user1={'name':'vasudha','age': 18,'contact no': 9857643227,'email':'vasu2135@gmail.com'}\n",
    "print(len(user1))\n",
    "user1['address']='hyderabad'\n",
    "print(len(user1))"
   ]
  },
  {
   "cell_type": "code",
   "execution_count": 22,
   "metadata": {},
   "outputs": [
    {
     "name": "stdout",
     "output_type": "stream",
     "text": [
      "{'name': 'vasudha', 'age': 18, 'contact no': 9857643227, 'email': 'vasu2135@gmail.com'}\n",
      "{'name': 'vasudha', 'age': 18, 'contact no': 9857643227, 'email': 'vasu2135@gmail.com'}\n",
      "{'name': 'vasudha', 'age': 18, 'contact no': 9857643227, 'email': 'vasu2135@gmail.com', 'address': 'hyderabad'}\n",
      "{'name': 'vasudha', 'age': 18, 'contact no': 9857643227, 'email': 'vasu2135@gmail.com'}\n"
     ]
    }
   ],
   "source": [
    "user1={'name':'vasudha','age': 18,'contact no': 9857643227,'email':'vasu2135@gmail.com'}\n",
    "user2=user1.copy()\n",
    "print(user1)\n",
    "print(user2)\n",
    "user1['address']='hyderabad'\n",
    "print(user1)\n",
    "print(user2)"
   ]
  },
  {
   "cell_type": "code",
   "execution_count": 23,
   "metadata": {},
   "outputs": [
    {
     "name": "stdout",
     "output_type": "stream",
     "text": [
      "dict_items([('name', 'vasudha'), ('age', 18), ('contact no', 9857643227), ('email', 'vasu2135@gmail.com')])\n"
     ]
    }
   ],
   "source": [
    "user1={'name':'vasudha','age': 18,'contact no': 9857643227,'email':'vasu2135@gmail.com'}\n",
    "print(user1.items())"
   ]
  },
  {
   "cell_type": "code",
   "execution_count": 24,
   "metadata": {},
   "outputs": [
    {
     "name": "stdout",
     "output_type": "stream",
     "text": [
      "dict_values(['vasudha', 18, 9857643227, 'vasu2135@gmail.com'])\n",
      "dict_values(['vasudha', 18, 9857643227, 'vasu2135@gmail.com'])\n"
     ]
    }
   ],
   "source": [
    "user1={'name':'vasudha','age': 18,'contact no': 9857643227,'email':'vasu2135@gmail.com'}\n",
    "user2=user1.copy()\n",
    "print(user1.values())\n",
    "print(user2.values())"
   ]
  },
  {
   "cell_type": "code",
   "execution_count": 25,
   "metadata": {},
   "outputs": [
    {
     "name": "stdout",
     "output_type": "stream",
     "text": [
      "python programming\n"
     ]
    }
   ],
   "source": [
    "list=['python','programming']\n",
    "print(\"%s %s\"%(list[0],list[1]))"
   ]
  },
  {
   "cell_type": "code",
   "execution_count": 29,
   "metadata": {},
   "outputs": [
    {
     "name": "stdout",
     "output_type": "stream",
     "text": [
      "python programming\n"
     ]
    }
   ],
   "source": [
    "list=['python','programming']\n",
    "print(\"{0} {1}\".format(list[0],list[1]))"
   ]
  },
  {
   "cell_type": "code",
   "execution_count": 4,
   "metadata": {},
   "outputs": [
    {
     "name": "stdout",
     "output_type": "stream",
     "text": [
      "contact vasudha added\n",
      "contact madhuri added\n",
      "contact manasa added\n"
     ]
    }
   ],
   "source": [
    "contact={}\n",
    "def addcontact(name,phone):\n",
    "    if name not in contact:\n",
    "        contact[name]=phone\n",
    "        print(\"contact %s added\" % name)\n",
    "    else:\n",
    "        print(\"contact %s already exists\"% name)\n",
    "    return\n",
    "addcontact(\"vasudha\",7845389236)\n",
    "addcontact(\"madhuri\",9449345236)\n",
    "addcontact(\"manasa\",795340936)"
   ]
  },
  {
   "cell_type": "code",
   "execution_count": 6,
   "metadata": {},
   "outputs": [
    {
     "name": "stdout",
     "output_type": "stream",
     "text": [
      "vasudha : 7845389236\n",
      "madhuri : 9449345236\n",
      "manasa : 795340936\n",
      "mahema does not exist\n"
     ]
    }
   ],
   "source": [
    "def searchcontact(name):\n",
    "    if name in contact:\n",
    "        print(name,\":\",contact[name])\n",
    "    else:\n",
    "        print(\"%s does not exist\"% name)\n",
    "    return\n",
    "searchcontact(\"vasudha\")\n",
    "searchcontact(\"madhuri\")\n",
    "searchcontact(\"manasa\")\n",
    "searchcontact(\"mahema\")"
   ]
  },
  {
   "cell_type": "code",
   "execution_count": 8,
   "metadata": {},
   "outputs": [
    {
     "name": "stdout",
     "output_type": "stream",
     "text": [
      "{'vasudha': 7845389236, 'madhuri': 9449345236, 'manasa': 795340936}\n"
     ]
    }
   ],
   "source": [
    "print(contact)"
   ]
  },
  {
   "cell_type": "code",
   "execution_count": 10,
   "metadata": {},
   "outputs": [
    {
     "name": "stdout",
     "output_type": "stream",
     "text": [
      "1 contact added successfully\n",
      "{'mahema': 6097845322}\n"
     ]
    }
   ],
   "source": [
    "def importcontact(newcontact):\n",
    "    contact.update(newcontact)\n",
    "    print(len(newcontact.keys()),\"contact added successfully\")\n",
    "    return\n",
    "newcontact={'mahema':6097845322 }\n",
    "importcontact(newcontact)\n",
    "print(newcontact)"
   ]
  },
  {
   "cell_type": "code",
   "execution_count": 11,
   "metadata": {},
   "outputs": [
    {
     "name": "stdout",
     "output_type": "stream",
     "text": [
      "{'vasudha': 7845389236, 'madhuri': 9449345236, 'manasa': 795340936, 'mahema': 6097845322}\n"
     ]
    }
   ],
   "source": [
    "print(contact)"
   ]
  },
  {
   "cell_type": "code",
   "execution_count": 13,
   "metadata": {},
   "outputs": [
    {
     "name": "stdout",
     "output_type": "stream",
     "text": [
      "vasudha does not exist\n",
      "{'madhuri': 9449345236, 'manasa': 795340936, 'mahema': 6097845322}\n"
     ]
    }
   ],
   "source": [
    "def deletecontact(name):\n",
    "    if name in contact:\n",
    "        del contact[name]\n",
    "        print(name,\": is deleted\")\n",
    "    else:\n",
    "        print(name,\"does not exist\")\n",
    "    return\n",
    "deletecontact(\"vasudha\")\n",
    "print(contact)"
   ]
  },
  {
   "cell_type": "code",
   "execution_count": 15,
   "metadata": {},
   "outputs": [
    {
     "name": "stdout",
     "output_type": "stream",
     "text": [
      "madhuri : contact updated\n",
      "vasudha : contact does not exist\n"
     ]
    }
   ],
   "source": [
    "def updatecontact(name,phone):\n",
    "    if name in contact:\n",
    "        contact[name]=phone\n",
    "        print(name,\": contact updated\")\n",
    "    else:    \n",
    "        print(name,\": contact does not exist\")\n",
    "    return\n",
    "updatecontact(\"madhuri\",7658490032)\n",
    "updatecontact(\"vasudha\",9946528451)"
   ]
  },
  {
   "cell_type": "code",
   "execution_count": 16,
   "metadata": {},
   "outputs": [
    {
     "name": "stdout",
     "output_type": "stream",
     "text": [
      "{'madhuri': 7658490032, 'manasa': 795340936, 'mahema': 6097845322}\n"
     ]
    }
   ],
   "source": [
    "print(contact)"
   ]
  },
  {
   "cell_type": "code",
   "execution_count": 18,
   "metadata": {},
   "outputs": [
    {
     "name": "stdout",
     "output_type": "stream",
     "text": [
      "1 2 3 4\n"
     ]
    }
   ],
   "source": [
    "list=[1,2,3,4]\n",
    "print(\"%d %d %d %d\" %(list[0],list[1],list[2],list[3]))"
   ]
  },
  {
   "cell_type": "code",
   "execution_count": 20,
   "metadata": {},
   "outputs": [
    {
     "name": "stdout",
     "output_type": "stream",
     "text": [
      "value at: 1 value at: 2\n",
      "value at: 3 value at: 4\n"
     ]
    }
   ],
   "source": [
    "list=[1,2,3,4]\n",
    "print(\"value at: {0} value at: {1}\".format(list[0],list[1]))\n",
    "print(\"value at: {0} value at: {1}\".format(list[2],list[3]))"
   ]
  },
  {
   "cell_type": "code",
   "execution_count": 23,
   "metadata": {},
   "outputs": [
    {
     "data": {
      "text/plain": [
       "123"
      ]
     },
     "execution_count": 23,
     "metadata": {},
     "output_type": "execute_result"
    }
   ],
   "source": [
    "from math import floor as f1\n",
    "f1(123.456)"
   ]
  },
  {
   "cell_type": "code",
   "execution_count": 26,
   "metadata": {},
   "outputs": [
    {
     "data": {
      "text/plain": [
       "120"
      ]
     },
     "execution_count": 26,
     "metadata": {},
     "output_type": "execute_result"
    }
   ],
   "source": [
    "from math import factorial as fact\n",
    "fact(5)\n",
    "import math\n",
    "math.factorial(5)"
   ]
  },
  {
   "cell_type": "code",
   "execution_count": 27,
   "metadata": {},
   "outputs": [
    {
     "data": {
      "text/plain": [
       "120"
      ]
     },
     "execution_count": 27,
     "metadata": {},
     "output_type": "execute_result"
    }
   ],
   "source": [
    "import math\n",
    "math.factorial(5)"
   ]
  },
  {
   "cell_type": "code",
   "execution_count": 31,
   "metadata": {},
   "outputs": [
    {
     "name": "stdout",
     "output_type": "stream",
     "text": [
      "59 110 37 43 119 106 91 45 18 56 "
     ]
    }
   ],
   "source": [
    "import random\n",
    "def randomnum(n,lb,ub):\n",
    "    for i in range(0,n):\n",
    "        print(random.randint(lb,ub),end=\" \")\n",
    "    return\n",
    "randomnum(10,12,120)\n",
    "    "
   ]
  },
  {
   "cell_type": "code",
   "execution_count": 43,
   "metadata": {},
   "outputs": [
    {
     "name": "stdout",
     "output_type": "stream",
     "text": [
      "The ceil of 2.3 is : 6\n"
     ]
    }
   ],
   "source": [
    "import math\n",
    "print (\"The ceil of 2.3 is : \", end=\"\") \n",
    "print (math.ceil(a)) \n",
    "  "
   ]
  },
  {
   "cell_type": "code",
   "execution_count": 44,
   "metadata": {},
   "outputs": [
    {
     "name": "stdout",
     "output_type": "stream",
     "text": [
      "The absolute value of -10 is : 10.0\n"
     ]
    }
   ],
   "source": [
    "import math\n",
    "a=-10\n",
    "b=-4\n",
    "print (\"The absolute value of -10 is : \", end=\"\") \n",
    "print (math.fabs(a)) "
   ]
  },
  {
   "cell_type": "code",
   "execution_count": 45,
   "metadata": {},
   "outputs": [
    {
     "name": "stdout",
     "output_type": "stream",
     "text": [
      "The copysigned value of -10 and 5.5 is : -5.5\n"
     ]
    }
   ],
   "source": [
    "import math\n",
    "a = -10\n",
    "b = 5.5\n",
    "c = 15\n",
    "d = 5\n",
    "print (\"The copysigned value of -10 and 5.5 is : \", end=\"\") \n",
    "print (math.copysign(5.5, -10)) "
   ]
  },
  {
   "cell_type": "code",
   "execution_count": 54,
   "metadata": {},
   "outputs": [
    {
     "name": "stdout",
     "output_type": "stream",
     "text": [
      "The value of log 5 with base 3 is : 1.4649735207179269\n"
     ]
    }
   ],
   "source": [
    "import math\n",
    "print (\"The value of log 5 with base 3 is : \", end=\"\") \n",
    "print (math.log(5,3)) "
   ]
  },
  {
   "cell_type": "code",
   "execution_count": 52,
   "metadata": {},
   "outputs": [
    {
     "name": "stdout",
     "output_type": "stream",
     "text": [
      "The value of 5 to the power 2 is : 25.0\n"
     ]
    }
   ],
   "source": [
    "import math\n",
    "print (\"The value of 5 to the power 2 is : \", end=\"\") \n",
    "print (math.pow(5,2)) "
   ]
  },
  {
   "cell_type": "code",
   "execution_count": 53,
   "metadata": {},
   "outputs": [
    {
     "name": "stdout",
     "output_type": "stream",
     "text": [
      "The value of square root of 49 : 7.0\n"
     ]
    }
   ],
   "source": [
    "import math\n",
    "print (\"The value of square root of 49 : \", end=\"\") \n",
    "print (math.sqrt(49)) "
   ]
  },
  {
   "cell_type": "code",
   "execution_count": 51,
   "metadata": {},
   "outputs": [
    {
     "name": "stdout",
     "output_type": "stream",
     "text": [
      "The value of sine of pi/4 is : 0.7071067811865475\n"
     ]
    }
   ],
   "source": [
    "import math\n",
    "a = math.pi/4\n",
    "print (\"The value of sine of pi/4 is : \", end=\"\") \n",
    "print (math.sin(a)) "
   ]
  },
  {
   "cell_type": "code",
   "execution_count": 55,
   "metadata": {},
   "outputs": [
    {
     "name": "stdout",
     "output_type": "stream",
     "text": [
      "The converted value from radians to degrees is : 45.0\n"
     ]
    }
   ],
   "source": [
    "import math\n",
    "a = math.pi/4\n",
    "b = 20\n",
    "print (\"The converted value from radians to degrees is : \", end=\"\") \n",
    "print (math.degrees(a)) "
   ]
  },
  {
   "cell_type": "code",
   "execution_count": 56,
   "metadata": {},
   "outputs": [
    {
     "name": "stdout",
     "output_type": "stream",
     "text": [
      "The gamma() of 12 is : 39916800.0\n"
     ]
    }
   ],
   "source": [
    "import math\n",
    "a=12\n",
    "print (\"The gamma() of 12 is : \", end=\"\") \n",
    "print (math.gamma(a)) "
   ]
  },
  {
   "cell_type": "code",
   "execution_count": 62,
   "metadata": {},
   "outputs": [
    {
     "name": "stdout",
     "output_type": "stream",
     "text": [
      "Generated random integer number within a given range\n",
      "40\n",
      "40\n"
     ]
    }
   ],
   "source": [
    "import random\n",
    "print(\"Generated random integer number within a given range\")\n",
    "print(random.randrange(10, 50, 5))\n",
    "print(random.randrange(10, 50, 5))"
   ]
  },
  {
   "cell_type": "code",
   "execution_count": 63,
   "metadata": {},
   "outputs": [
    {
     "name": "stdout",
     "output_type": "stream",
     "text": [
      "random.sample()  [8, 9, 5]\n"
     ]
    }
   ],
   "source": [
    "import random\n",
    "list = [2,5,8,9,12]\n",
    "print (\"random.sample() \",random.sample(list,3))"
   ]
  },
  {
   "cell_type": "code",
   "execution_count": 64,
   "metadata": {},
   "outputs": [
    {
     "name": "stdout",
     "output_type": "stream",
     "text": [
      "Random number with seed  0.793340083761663\n"
     ]
    }
   ],
   "source": [
    "import random\n",
    "random.seed(6)\n",
    "print(\"Random number with seed \",random.random())"
   ]
  },
  {
   "cell_type": "code",
   "execution_count": 65,
   "metadata": {},
   "outputs": [
    {
     "name": "stdout",
     "output_type": "stream",
     "text": [
      "Printing shuffled list  [8, 12, 5, 9, 2]\n"
     ]
    }
   ],
   "source": [
    "import random\n",
    "list = [2,5,8,9,12]\n",
    "random.shuffle(list)\n",
    "print (\"Printing shuffled list \", list)"
   ]
  },
  {
   "cell_type": "code",
   "execution_count": 66,
   "metadata": {},
   "outputs": [
    {
     "name": "stdout",
     "output_type": "stream",
     "text": [
      "floating point within given range\n",
      "10.506775723276066\n"
     ]
    }
   ],
   "source": [
    "import random\n",
    "print(\"floating point within given range\")\n",
    "print(random.uniform(10.5, 25.5))"
   ]
  },
  {
   "cell_type": "code",
   "execution_count": 67,
   "metadata": {},
   "outputs": [
    {
     "name": "stdout",
     "output_type": "stream",
     "text": [
      "floating point triangular\n",
      "15.442444077467442\n"
     ]
    }
   ],
   "source": [
    "import random\n",
    "print(\"floating point triangular\")\n",
    "print(random.triangular(10.5, 25.5, 5.5))"
   ]
  },
  {
   "cell_type": "code",
   "execution_count": 68,
   "metadata": {},
   "outputs": [
    {
     "name": "stdout",
     "output_type": "stream",
     "text": [
      "Printing random number using random.random()\n",
      "0.470254257064445\n"
     ]
    }
   ],
   "source": [
    "import random\n",
    "print(\"Printing random number using random.random()\")\n",
    "print(random.random())"
   ]
  },
  {
   "cell_type": "code",
   "execution_count": 69,
   "metadata": {},
   "outputs": [
    {
     "name": "stdout",
     "output_type": "stream",
     "text": [
      "secure number is  0.6180808375117748\n",
      "Secure byte token b'\\x88\\x98\\xee+\\xe6\\xda\\x9fI\\xce\\xac\\xb3>\\xf0\\x9c\\xad\\xd2'\n"
     ]
    }
   ],
   "source": [
    "import random\n",
    "import secrets\n",
    "number = random.SystemRandom().random()\n",
    "print(\"secure number is \", number)\n",
    "print(\"Secure byte token\", secrets.token_bytes(16))"
   ]
  },
  {
   "cell_type": "code",
   "execution_count": 72,
   "metadata": {},
   "outputs": [
    {
     "name": "stdout",
     "output_type": "stream",
     "text": [
      "First Sample is  [12, 21, 6, 24, 15]\n"
     ]
    }
   ],
   "source": [
    "import random\n",
    "number_list = [3, 6, 9, 12, 15, 18, 21, 24, 27, 30]\n",
    "print(\"First Sample is \", random.sample(number_list,k=5))\n",
    "state = random.getstate() "
   ]
  },
  {
   "cell_type": "code",
   "execution_count": null,
   "metadata": {},
   "outputs": [],
   "source": []
  }
 ],
 "metadata": {
  "kernelspec": {
   "display_name": "Python 3",
   "language": "python",
   "name": "python3"
  },
  "language_info": {
   "codemirror_mode": {
    "name": "ipython",
    "version": 3
   },
   "file_extension": ".py",
   "mimetype": "text/x-python",
   "name": "python",
   "nbconvert_exporter": "python",
   "pygments_lexer": "ipython3",
   "version": "3.7.3"
  }
 },
 "nbformat": 4,
 "nbformat_minor": 2
}

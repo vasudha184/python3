{
 "cells": [
  {
   "cell_type": "code",
   "execution_count": 3,
   "metadata": {},
   "outputs": [
    {
     "name": "stdout",
     "output_type": "stream",
     "text": [
      "90\n"
     ]
    }
   ],
   "source": [
    "def printEven(n):\n",
    "    cnt=0\n",
    "    sum=0\n",
    "    while(cnt!=n):\n",
    "        if(cnt%2==0):\n",
    "            sum=sum+cnt\n",
    "        cnt=cnt+1\n",
    "    print(sum)\n",
    "printEven(20)     "
   ]
  },
  {
   "cell_type": "code",
   "execution_count": 8,
   "metadata": {},
   "outputs": [
    {
     "name": "stdout",
     "output_type": "stream",
     "text": [
      "1 2 3 4 6 "
     ]
    }
   ],
   "source": [
    "def factlist(n):\n",
    "    i=1\n",
    "    while(i!=n):\n",
    "        if(n%i==0):\n",
    "            print(i,end=\" \")\n",
    "        i=i+1\n",
    "    return\n",
    "factlist(12)    "
   ]
  },
  {
   "cell_type": "code",
   "execution_count": 13,
   "metadata": {},
   "outputs": [
    {
     "name": "stdout",
     "output_type": "stream",
     "text": [
      "[1, 2, 3, 4, 5]\n",
      "1\n"
     ]
    }
   ],
   "source": [
    "list1=[1,2,3,4,5]\n",
    "print(list1)\n",
    "print(list1[0])"
   ]
  },
  {
   "cell_type": "code",
   "execution_count": 15,
   "metadata": {},
   "outputs": [
    {
     "name": "stdout",
     "output_type": "stream",
     "text": [
      "manasa madhuri mahema "
     ]
    }
   ],
   "source": [
    "list2=[\"manasa\",\"madhuri\",\"mahema\"]\n",
    "for x in list2:\n",
    "    print(x,end=' ')"
   ]
  },
  {
   "cell_type": "code",
   "execution_count": 24,
   "metadata": {},
   "outputs": [
    {
     "name": "stdout",
     "output_type": "stream",
     "text": [
      "1 2 3 4 5 \n",
      "5\n",
      "[3, 4, 5]\n",
      "[1, 2, 3]\n",
      "[1, 2, 3, 4]\n"
     ]
    }
   ],
   "source": [
    "list1=[1,2,3,4,5]\n",
    "for x in list1:\n",
    "    print(x,end=' ')\n",
    "print()  \n",
    "print(list1[4])\n",
    "print(list1[2:5])\n",
    "print(list1[0:3])\n",
    "print(list1[:4])"
   ]
  },
  {
   "cell_type": "code",
   "execution_count": 30,
   "metadata": {},
   "outputs": [
    {
     "name": "stdout",
     "output_type": "stream",
     "text": [
      "1 2 3 4 5 6 7 8 9 10 \n",
      "[2, 3, 4, 5, 6, 7, 8, 9]\n",
      "[3, 4, 5, 6, 7, 8]\n",
      "[2, 3, 4, 5, 6]\n",
      "[1, 3, 5, 7, 9]\n",
      "[1, 4, 7, 10]\n",
      "10\n"
     ]
    }
   ],
   "source": [
    "list1=[1,2,3,4,5,6,7,8,9,10]\n",
    "for x in list1:\n",
    "    print(x,end=' ')\n",
    "print()  \n",
    "print(list1[1:-1])\n",
    "print(list1[2:-2])\n",
    "print(list1[1:-4])\n",
    "print(list1[::2])\n",
    "print(list1[::3])\n",
    "print(list1[-1])"
   ]
  },
  {
   "cell_type": "code",
   "execution_count": 33,
   "metadata": {},
   "outputs": [
    {
     "name": "stdout",
     "output_type": "stream",
     "text": [
      "0 1 2 3 4 5 6 7 8 9 "
     ]
    }
   ],
   "source": [
    "for i in range(10):\n",
    "    print(i,end=' ')    "
   ]
  },
  {
   "cell_type": "code",
   "execution_count": 39,
   "metadata": {},
   "outputs": [
    {
     "name": "stdout",
     "output_type": "stream",
     "text": [
      "['manasa', 'madhuri', 1, 2]\n",
      "['manasa', 'madhuri', 2]\n",
      "['manasa', 'gitam', 2]\n",
      "[12, 23, 34]\n",
      "['manasa', 'gitam', 2, 12, 23, 34]\n"
     ]
    }
   ],
   "source": [
    "list1=[\"manasa\",\"madhuri\",1,2]\n",
    "print(list1)\n",
    "del list1[2]\n",
    "print(list1)\n",
    "list1[1]=\"gitam\"\n",
    "print(list1)\n",
    "list2=[12,23,34]\n",
    "print(list2)\n",
    "print(list1+list2)\n"
   ]
  },
  {
   "cell_type": "code",
   "execution_count": 45,
   "metadata": {
    "scrolled": true
   },
   "outputs": [
    {
     "name": "stdout",
     "output_type": "stream",
     "text": [
      "[1, 2, 3, 4, 5]\n",
      "[1, 2, 4, 5]\n",
      "4\n",
      "[1, 2, 4, 5, 1, 3, 1]\n"
     ]
    },
    {
     "data": {
      "text/plain": [
       "3"
      ]
     },
     "execution_count": 45,
     "metadata": {},
     "output_type": "execute_result"
    }
   ],
   "source": [
    "list1=[1,2,3,4,5]\n",
    "print(list1)\n",
    "del list1[2]\n",
    "print(list1)\n",
    "print(len(list1))\n",
    "list1.append(1)\n",
    "list1.append(3)\n",
    "list1.append(1)\n",
    "print(list1)\n",
    "list1.count(1)"
   ]
  },
  {
   "cell_type": "code",
   "execution_count": 50,
   "metadata": {},
   "outputs": [
    {
     "name": "stdout",
     "output_type": "stream",
     "text": [
      "['a', 'b', 'c', 'd', 1, 5, 'c', 'c']\n",
      "['a', 'b', 2019, 'c', 'd', 1, 5, 'c', 'c']\n",
      "9\n",
      "['a', 'b', 2019, 'c', 2020, 'd', 1, 5, 'c', 'c']\n"
     ]
    }
   ],
   "source": [
    "list1=['a','b','c','d',1,5,'c','c']\n",
    "print(list1)\n",
    "list1.index('c')\n",
    "list1.index(1)\n",
    "list1.insert(2,2019)\n",
    "print(list1)\n",
    "print(len(list1))\n",
    "list1.insert(4,2020)\n",
    "print(list1)"
   ]
  },
  {
   "cell_type": "code",
   "execution_count": 53,
   "metadata": {},
   "outputs": [
    {
     "name": "stdout",
     "output_type": "stream",
     "text": [
      "['a', 'b', 'c', 1, 5, 'c', 'c']\n",
      "['a', 'b', 1, 5, 'c', 'c']\n",
      "['a', 'b', 1, 5, 'c']\n",
      "['c', 5, 1, 'b', 'a']\n"
     ]
    }
   ],
   "source": [
    "list1=['a','b','c',1,5,'c','c']\n",
    "print(list1)\n",
    "list1.remove('c')\n",
    "print(list1)\n",
    "list1.remove('c')\n",
    "print(list1)\n",
    "list1.reverse()\n",
    "print(list1)"
   ]
  },
  {
   "cell_type": "code",
   "execution_count": 57,
   "metadata": {},
   "outputs": [
    {
     "name": "stdout",
     "output_type": "stream",
     "text": [
      "target item is not found\n",
      "target item is not found\n",
      "target item is not found\n",
      "target item is not found\n"
     ]
    }
   ],
   "source": [
    "def linearSearch(a,tarItem):\n",
    "    flag=0\n",
    "    for i in range(len(a)):\n",
    "        if(a[i]==tarItem):\n",
    "            flag=1\n",
    "            break\n",
    "        if(flag!=0):\n",
    "            print(\"target item is found\")\n",
    "        else:\n",
    "            print(\"target item is not found\")\n",
    "a=[1,2,3,4,5,6]        \n",
    "linearSearch(a,5)        "
   ]
  },
  {
   "cell_type": "code",
   "execution_count": 59,
   "metadata": {},
   "outputs": [
    {
     "name": "stdout",
     "output_type": "stream",
     "text": [
      "2\n"
     ]
    }
   ],
   "source": [
    "def linearSearchDuplicate(a,tarItem):\n",
    "    flag=0\n",
    "    for i in range(len(a)):\n",
    "        if(a[i]==tarItem):\n",
    "            flag=flag+1\n",
    "    print(flag)    \n",
    "    \n",
    "a=[9,6,1,5,6,7,9]   \n",
    "linearSearchDuplicate(a,9)\n"
   ]
  },
  {
   "cell_type": "code",
   "execution_count": 2,
   "metadata": {},
   "outputs": [
    {
     "name": "stdout",
     "output_type": "stream",
     "text": [
      "1 4 7 "
     ]
    }
   ],
   "source": [
    "def linearExample1(a,tarItem):\n",
    "    flag=0\n",
    "    for i in range(len(a)):\n",
    "        if(a[i]==tarItem): \n",
    "             print(i,end=\" \")\n",
    "a=[1,5,9,6,5,15,12,5]\n",
    "linearExample1(a,5)"
   ]
  },
  {
   "cell_type": "code",
   "execution_count": 6,
   "metadata": {},
   "outputs": [
    {
     "name": "stdout",
     "output_type": "stream",
     "text": [
      "!!\n",
      "!!!!!\n",
      "!!!!!!!!\n"
     ]
    }
   ],
   "source": [
    "def linearExample2(a,tarItem):\n",
    "    flag=0\n",
    "    for i in range(len(a)):\n",
    "        if(a[i]==tarItem): \n",
    "            for i in range(i+1):\n",
    "                print(\"!\",end='')\n",
    "            print()\n",
    "a=[1,5,9,6,5,15,12,5]\n",
    "linearExample2(a,5)                                                                                                                                                                                                                                                                                                                                                                                                                                                             "
   ]
  },
  {
   "cell_type": "code",
   "execution_count": 12,
   "metadata": {},
   "outputs": [
    {
     "name": "stdout",
     "output_type": "stream",
     "text": [
      "60\n"
     ]
    }
   ],
   "source": [
    "def multiple(a):\n",
    "    sum=0\n",
    "    for i in range(len(a)):\n",
    "        if(a[i]%3==0 and a[i]%5==0):\n",
    "            sum=sum+a[i]\n",
    "    print(sum)\n",
    "a=[15,12,2,9,18,36,45]\n",
    "multiple(a)"
   ]
  },
  {
   "cell_type": "code",
   "execution_count": 18,
   "metadata": {},
   "outputs": [
    {
     "name": "stdout",
     "output_type": "stream",
     "text": [
      "1 3 8 15 5 "
     ]
    }
   ],
   "source": [
    "def format(a):\n",
    "    for i in range(len(a)):\n",
    "        if(i==0 or i==(len(a)-1)):\n",
    "            print(a[i],end=\" \")\n",
    "        else:\n",
    "            print(a[i-1]*a[i+1],end=\" \")   \n",
    "a=[1,2,3,4,5]    \n",
    "format(a)"
   ]
  },
  {
   "cell_type": "code",
   "execution_count": 20,
   "metadata": {},
   "outputs": [
    {
     "name": "stdout",
     "output_type": "stream",
     "text": [
      "1 9 19 22 "
     ]
    }
   ],
   "source": [
    "def format(a):\n",
    "    for i in range(len(a)):\n",
    "        if(i==0 or i==(len(a)-1)):\n",
    "            print(a[i],end=\" \")\n",
    "        elif(a[i-1]%2==0 and a[i+1]%2==0):\n",
    "            print(a[i],end=\" \")\n",
    "            \n",
    "a=[1,6,9,4,16,19,22]    \n",
    "format(a)"
   ]
  },
  {
   "cell_type": "code",
   "execution_count": 25,
   "metadata": {},
   "outputs": [
    {
     "name": "stdout",
     "output_type": "stream",
     "text": [
      "enter a number134567\n",
      "[1, 3, 4, 5, 6, 7]\n"
     ]
    }
   ],
   "source": [
    "def list(n):\n",
    "    list=[]\n",
    "    while(n!=0):\n",
    "        r=n%10\n",
    "        list.append(r)\n",
    "        n=n//10\n",
    "    list.reverse()\n",
    "    print(list)\n",
    "a=int(input(\"enter a number\"))\n",
    "list(a)\n",
    "       "
   ]
  },
  {
   "cell_type": "code",
   "execution_count": 30,
   "metadata": {},
   "outputs": [
    {
     "name": "stdout",
     "output_type": "stream",
     "text": [
      "4 6 "
     ]
    }
   ],
   "source": [
    "def list(a):\n",
    "    for i in range(len(a)):\n",
    "        if(a[i]%2==0):\n",
    "            print(a[i],end=\" \")           \n",
    "a=[1,4,5,6,9]\n",
    "list(a)"
   ]
  },
  {
   "cell_type": "code",
   "execution_count": 33,
   "metadata": {},
   "outputs": [
    {
     "name": "stdout",
     "output_type": "stream",
     "text": [
      "1 4 5 6 9 "
     ]
    }
   ],
   "source": [
    "def list(a):\n",
    "    for i in range(len(a)):\n",
    "        print(a[i],end=\" \")\n",
    "a=[1,4,5,6,9]\n",
    "list(a)"
   ]
  },
  {
   "cell_type": "code",
   "execution_count": 3,
   "metadata": {},
   "outputs": [
    {
     "name": "stdout",
     "output_type": "stream",
     "text": [
      "[4, 6]\n"
     ]
    }
   ],
   "source": [
    "def disp(n):\n",
    "    l=[]\n",
    "    for i in n:\n",
    "        if(i%2==0):\n",
    "            l.append(i)\n",
    "    return l      \n",
    "n=[1,4,5,6,9]\n",
    "print(disp(n))"
   ]
  },
  {
   "cell_type": "code",
   "execution_count": 6,
   "metadata": {},
   "outputs": [
    {
     "name": "stdout",
     "output_type": "stream",
     "text": [
      "1 3 5 7 5 "
     ]
    }
   ],
   "source": [
    "def sum(a):\n",
    "    for i in range(len(a)):\n",
    "        if(i==0 or i==(len(a)-1)):\n",
    "            print(a[i],end=\" \")\n",
    "        else:\n",
    "            print(a[i]+a[i-1],end=\" \")   \n",
    "            \n",
    "a=[1,2,3,4,5]\n",
    "sum(a)"
   ]
  },
  {
   "cell_type": "code",
   "execution_count": 8,
   "metadata": {},
   "outputs": [
    {
     "name": "stdout",
     "output_type": "stream",
     "text": [
      "1 4 3 16 5 36 "
     ]
    }
   ],
   "source": [
    "def list(n):\n",
    "    for i in range(len(a)):\n",
    "        if(i%2==0):\n",
    "            print(a[i],end=\" \")\n",
    "        else:\n",
    "            print(a[i]*a[i],end=\" \")\n",
    "a=[1,2,3,4,5,6]\n",
    "list(n)\n",
    "        "
   ]
  },
  {
   "cell_type": "code",
   "execution_count": null,
   "metadata": {},
   "outputs": [],
   "source": []
  }
 ],
 "metadata": {
  "kernelspec": {
   "display_name": "Python 3",
   "language": "python",
   "name": "python3"
  },
  "language_info": {
   "codemirror_mode": {
    "name": "ipython",
    "version": 3
   },
   "file_extension": ".py",
   "mimetype": "text/x-python",
   "name": "python",
   "nbconvert_exporter": "python",
   "pygments_lexer": "ipython3",
   "version": "3.7.3"
  }
 },
 "nbformat": 4,
 "nbformat_minor": 2
}

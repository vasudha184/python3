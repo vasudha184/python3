{
 "cells": [
  {
   "cell_type": "code",
   "execution_count": 6,
   "metadata": {},
   "outputs": [
    {
     "name": "stdout",
     "output_type": "stream",
     "text": [
      "The file is created successfully and the data is written.\n"
     ]
    }
   ],
   "source": [
    "def createfile(filename):\n",
    "    f=open(filename,\"w\")\n",
    "    for i in range(10):\n",
    "        f.write(\"this is %d line\\n\" %i)\n",
    "    print(\"The file is created successfully and the data is written.\")    \n",
    "    f.close()\n",
    "    return\n",
    "createfile(\"file1.txt\")"
   ]
  },
  {
   "cell_type": "code",
   "execution_count": 7,
   "metadata": {},
   "outputs": [
    {
     "name": "stdout",
     "output_type": "stream",
     "text": [
      "/home/ghtp\n"
     ]
    }
   ],
   "source": [
    "import os\n",
    "print(os.getcwd())"
   ]
  },
  {
   "cell_type": "code",
   "execution_count": 9,
   "metadata": {},
   "outputs": [
    {
     "name": "stdout",
     "output_type": "stream",
     "text": [
      "this is 0 line\n",
      "this is 1 line\n",
      "this is 2 line\n",
      "this is 3 line\n",
      "this is 4 line\n",
      "this is 5 line\n",
      "this is 6 line\n",
      "this is 7 line\n",
      "this is 8 line\n",
      "this is 9 line\n",
      "\n"
     ]
    }
   ],
   "source": [
    "def readfile(filename):\n",
    "    f=open(filename,\"r\")\n",
    "    if(f.mode==\"r\"):\n",
    "        x=f.read()\n",
    "        print(x)\n",
    "    f.close()\n",
    "    return\n",
    "readfile(\"file1.txt\")"
   ]
  },
  {
   "cell_type": "code",
   "execution_count": 10,
   "metadata": {},
   "outputs": [
    {
     "name": "stdout",
     "output_type": "stream",
     "text": [
      "The file is created successfully and the data is written.\n"
     ]
    }
   ],
   "source": [
    "def createfile(filename):\n",
    "    f=open(filename,\"w\")\n",
    "    for i in range(10):\n",
    "        f.write(\"Test %d line\\n\" %i)\n",
    "    print(\"The file is created successfully and the data is written.\")    \n",
    "    f.close()\n",
    "    return\n",
    "createfile(\"file1.txt\")"
   ]
  },
  {
   "cell_type": "code",
   "execution_count": 2,
   "metadata": {},
   "outputs": [],
   "source": [
    "def append(filename):\n",
    "    f=open(filename,\"a\")\n",
    "    f.write(\"New line 1\\n\")\n",
    "    f.write(\"New line 2\\n\")\n",
    "    f.close()\n",
    "    return\n",
    "append(\"file1.txt\")"
   ]
  },
  {
   "cell_type": "code",
   "execution_count": 5,
   "metadata": {},
   "outputs": [
    {
     "name": "stdout",
     "output_type": "stream",
     "text": [
      "Test 0 line\n",
      "Test 1 line\n",
      "Test 2 line\n",
      "Test 3 line\n",
      "Test 4 line\n",
      "Test 5 line\n",
      "Test 6 line\n",
      "Test 7 line\n",
      "Test 8 line\n",
      "Test 9 line\n",
      "New line 1\n",
      "New line 2\n",
      "\n"
     ]
    }
   ],
   "source": [
    "def readfile(filename):\n",
    "    f=open(filename,\"r\")\n",
    "    if(f.mode==\"r\"):\n",
    "        x=f.read()\n",
    "        print(x)\n",
    "    f.close()\n",
    "    return\n",
    "readfile(\"file1.txt\")"
   ]
  },
  {
   "cell_type": "code",
   "execution_count": 7,
   "metadata": {},
   "outputs": [
    {
     "data": {
      "text/plain": [
       "10"
      ]
     },
     "execution_count": 7,
     "metadata": {},
     "output_type": "execute_result"
    }
   ],
   "source": [
    "def analysis(filename,word):\n",
    "    f=open(filename,\"r\")\n",
    "    if(f.mode==\"r\"):\n",
    "        x=f.read()\n",
    "        list=x.split()\n",
    "    cnt=list.count(word)\n",
    "    return cnt\n",
    "analysis(\"file1.txt\",\"Test\")"
   ]
  },
  {
   "cell_type": "code",
   "execution_count": 6,
   "metadata": {},
   "outputs": [
    {
     "name": "stdout",
     "output_type": "stream",
     "text": [
      "142\n"
     ]
    }
   ],
   "source": [
    "def countcharacters(filename):\n",
    "    f=open(filename,\"r\")\n",
    "    if(f.mode==\"r\"):\n",
    "        x=f.read()\n",
    "        lst=list(x)\n",
    "    return len(lst)\n",
    "print(countcharacters(\"file1.txt\"))"
   ]
  },
  {
   "cell_type": "code",
   "execution_count": 5,
   "metadata": {},
   "outputs": [
    {
     "data": {
      "text/plain": [
       "12"
      ]
     },
     "execution_count": 5,
     "metadata": {},
     "output_type": "execute_result"
    }
   ],
   "source": [
    "def countupper(filename):\n",
    "    cnt=0\n",
    "    f=open(filename,\"r\")\n",
    "    if(f.mode==\"r\"):\n",
    "        x=f.read()\n",
    "        lst=list(x)\n",
    "    for i in lst:\n",
    "         if(i.isupper()):\n",
    "            cnt=cnt+1\n",
    "    return cnt\n",
    "countupper(\"file1.txt\")"
   ]
  },
  {
   "cell_type": "code",
   "execution_count": 6,
   "metadata": {},
   "outputs": [
    {
     "data": {
      "text/plain": [
       "12"
      ]
     },
     "execution_count": 6,
     "metadata": {},
     "output_type": "execute_result"
    }
   ],
   "source": [
    "def countlines(filename):\n",
    "    cnt=0\n",
    "    f=open(filename,\"r\")\n",
    "    if(f.mode==\"r\"):\n",
    "        x=f.read()\n",
    "        lst=list(x)\n",
    "        for i in lst:\n",
    "            if(i==\"\\n\"):\n",
    "                cnt=cnt+1\n",
    "        return cnt        \n",
    "countlines(\"file1.txt\")            "
   ]
  },
  {
   "cell_type": "code",
   "execution_count": 17,
   "metadata": {},
   "outputs": [
    {
     "name": "stdout",
     "output_type": "stream",
     "text": [
      "True\n",
      "False\n"
     ]
    }
   ],
   "source": [
    "import re\n",
    "def phonevalidate(phone):\n",
    "    pattern='^[6-9][0-9]{9}$|^[0][6-9][0-9]{9}$|^[+][9][1][6-9][0-9]{9}$'\n",
    "    phone=str(phone)\n",
    "    if re.match(pattern,phone):\n",
    "        return True\n",
    "    return False\n",
    "print(phonevalidate(\"+918345678564\"))\n",
    "print(phonevalidate(\"793456784\"))"
   ]
  },
  {
   "cell_type": "code",
   "execution_count": 19,
   "metadata": {},
   "outputs": [
    {
     "name": "stdout",
     "output_type": "stream",
     "text": [
      "True\n",
      "False\n"
     ]
    }
   ],
   "source": [
    "import re\n",
    "def rollvalidate(num):\n",
    "    pattern='^[1][5][2][U][1][A][0][1-9][0-6]$'\n",
    "    num=str(num)\n",
    "    if re.match(pattern,num):\n",
    "        return True\n",
    "    return False\n",
    "print(rollvalidate(\"152U1A062\"))\n",
    "print(rollvalidate(\"132A1A062\"))"
   ]
  },
  {
   "cell_type": "code",
   "execution_count": 22,
   "metadata": {},
   "outputs": [
    {
     "name": "stdout",
     "output_type": "stream",
     "text": [
      "True\n",
      "False\n"
     ]
    }
   ],
   "source": [
    "import re\n",
    "def mailvalidate(em):\n",
    "    pattern='^[0-9a-z][0-9a-z_.]{5,14}[0-9a-z][@][a-z0-9]{3,18}[.][a-z]{2,4}$'\n",
    "    em=str(em)\n",
    "    if re.match(pattern,em):\n",
    "        return True\n",
    "    return False\n",
    "print(mailvalidate(\"vasudha.anjali@gmail.com\"))\n",
    "print(mailvalidate(\"vasudha*231@gmail.com\"))"
   ]
  },
  {
   "cell_type": "code",
   "execution_count": 26,
   "metadata": {},
   "outputs": [
    {
     "name": "stdout",
     "output_type": "stream",
     "text": [
      "True\n",
      "False\n"
     ]
    }
   ],
   "source": [
    "import re\n",
    "def randvalidate(em):\n",
    "    pattern='^[a-zA-Z@$#!]{6,15}$'\n",
    "    em=str(em)\n",
    "    if re.match(pattern,em):\n",
    "        return True\n",
    "    return False\n",
    "print(randvalidate(\"GYcd@#!\"))\n",
    "print(randvalidate(\"GFH964bcn*\"))"
   ]
  },
  {
   "cell_type": "code",
   "execution_count": 27,
   "metadata": {},
   "outputs": [
    {
     "name": "stdout",
     "output_type": "stream",
     "text": [
      "The file is created successfully and the data is written.\n"
     ]
    }
   ],
   "source": [
    "def createfile(filename):\n",
    "    f=open(filename,\"w\")\n",
    "    for i in range(10):\n",
    "        f.write(\"this is %d line\\n\" %i)\n",
    "    print(\"The file is created successfully and the data is written.\")    \n",
    "    f.close()\n",
    "    return\n",
    "createfile(\"file2.txt\")"
   ]
  },
  {
   "cell_type": "code",
   "execution_count": 29,
   "metadata": {},
   "outputs": [
    {
     "data": {
      "text/plain": [
       "100"
      ]
     },
     "execution_count": 29,
     "metadata": {},
     "output_type": "execute_result"
    }
   ],
   "source": [
    "def countlower(filename):\n",
    "    cnt=0\n",
    "    f=open(filename,\"r\")\n",
    "    if(f.mode==\"r\"):\n",
    "        x=f.read()\n",
    "        lst=list(x)\n",
    "    for i in lst:\n",
    "         if(i.islower()):\n",
    "            cnt=cnt+1\n",
    "    return cnt\n",
    "countlower(\"file2.txt\")"
   ]
  },
  {
   "cell_type": "code",
   "execution_count": 31,
   "metadata": {},
   "outputs": [
    {
     "data": {
      "text/plain": [
       "10"
      ]
     },
     "execution_count": 31,
     "metadata": {},
     "output_type": "execute_result"
    }
   ],
   "source": [
    "def countdigits(filename):\n",
    "    cnt=0\n",
    "    f=open(filename,\"r\")\n",
    "    if(f.mode==\"r\"):\n",
    "        x=f.read()\n",
    "        lst=list(x)\n",
    "        for i in lst:\n",
    "            if(i>='0' and i<='9'):\n",
    "                cnt=cnt+1\n",
    "        return cnt        \n",
    "countdigits(\"file2.txt\")            "
   ]
  },
  {
   "cell_type": "code",
   "execution_count": 36,
   "metadata": {},
   "outputs": [
    {
     "data": {
      "text/plain": [
       "0"
      ]
     },
     "execution_count": 36,
     "metadata": {},
     "output_type": "execute_result"
    }
   ],
   "source": [
    "def countchar(filename):\n",
    "    cnt=0\n",
    "    f=open(filename,\"r\")\n",
    "    if(f.mode==\"r\"):\n",
    "        x=f.read()\n",
    "        lst=list(x)\n",
    "        for i in lst:\n",
    "            if(i>='!' and i<='/'):\n",
    "                cnt=cnt+1\n",
    "        return cnt        \n",
    "countchar(\"file2.txt\")            "
   ]
  },
  {
   "cell_type": "code",
   "execution_count": 43,
   "metadata": {},
   "outputs": [
    {
     "name": "stdout",
     "output_type": "stream",
     "text": [
      "The file is created successfully and the data is written.\n"
     ]
    }
   ],
   "source": [
    "def createfile(filename):\n",
    "    f=open(filename,\"w\")\n",
    "    for i in range(1):\n",
    "        f.write(\"Name : Vasudha\\n\")\n",
    "        f.write(\"Email id : vasudha.anjali@gmail.com\\n\")\n",
    "        f.write(\"Phone no : 9876583032\\n\")\n",
    "    print(\"The file is created successfully and the data is written.\")    \n",
    "    f.close()\n",
    "    return\n",
    "createfile(\"file3.txt\")"
   ]
  }
 ],
 "metadata": {
  "kernelspec": {
   "display_name": "Python 3",
   "language": "python",
   "name": "python3"
  },
  "language_info": {
   "codemirror_mode": {
    "name": "ipython",
    "version": 3
   },
   "file_extension": ".py",
   "mimetype": "text/x-python",
   "name": "python",
   "nbconvert_exporter": "python",
   "pygments_lexer": "ipython3",
   "version": "3.7.3"
  }
 },
 "nbformat": 4,
 "nbformat_minor": 2
}

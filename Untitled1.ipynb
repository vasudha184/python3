{
 "cells": [
  {
   "cell_type": "code",
   "execution_count": 3,
   "metadata": {},
   "outputs": [
    {
     "name": "stdout",
     "output_type": "stream",
     "text": [
      "0    1\n",
      "1    2\n",
      "2    3\n",
      "3    4\n",
      "4    5\n",
      "5    6\n",
      "6    7\n",
      "dtype: int64\n"
     ]
    }
   ],
   "source": [
    "import pandas as pd\n",
    "a=pd.Series([1,2,3,4,5,6,7])\n",
    "print(a)"
   ]
  },
  {
   "cell_type": "code",
   "execution_count": 4,
   "metadata": {},
   "outputs": [
    {
     "name": "stdout",
     "output_type": "stream",
     "text": [
      "0    1.0\n",
      "1    2.0\n",
      "2    3.0\n",
      "3    4.0\n",
      "4    5.0\n",
      "5    NaN\n",
      "6    6.0\n",
      "dtype: float64\n"
     ]
    }
   ],
   "source": [
    "import numpy as np\n",
    "a1=pd.Series([1,2,3,4,5,np.nan,6])\n",
    "print(a1)"
   ]
  },
  {
   "cell_type": "code",
   "execution_count": 6,
   "metadata": {},
   "outputs": [
    {
     "name": "stdout",
     "output_type": "stream",
     "text": [
      "DatetimeIndex(['2019-06-01', '2019-06-02', '2019-06-03', '2019-06-04',\n",
      "               '2019-06-05', '2019-06-06', '2019-06-07', '2019-06-08',\n",
      "               '2019-06-09', '2019-06-10', '2019-06-11', '2019-06-12',\n",
      "               '2019-06-13', '2019-06-14', '2019-06-15', '2019-06-16',\n",
      "               '2019-06-17', '2019-06-18', '2019-06-19', '2019-06-20'],\n",
      "              dtype='datetime64[ns]', freq='D')\n"
     ]
    }
   ],
   "source": [
    "dates=pd.date_range('20190601',periods=20)\n",
    "print(dates)"
   ]
  },
  {
   "cell_type": "code",
   "execution_count": 10,
   "metadata": {},
   "outputs": [
    {
     "name": "stdout",
     "output_type": "stream",
     "text": [
      "     A          B    C  D      E    F\n",
      "0  1.0 2019-06-01  1.0  3   test  foo\n",
      "1  1.0 2019-06-01  1.0  3  train  foo\n",
      "2  1.0 2019-06-01  1.0  3   test  foo\n",
      "3  1.0 2019-06-01  1.0  3  train  foo\n"
     ]
    }
   ],
   "source": [
    "a2=pd.DataFrame({'A':1.,\n",
    "                'B':pd.Timestamp('20190601'),\n",
    "                'C':pd.Series(1,index=list(range(4)),dtype='float32'),\n",
    "                'D':np.array([3]*4,dtype='int32'),\n",
    "                'E':pd.Categorical([\"test\",\"train\",\"test\",\"train\"]),\n",
    "                'F':'foo'})\n",
    "print(a2)"
   ]
  },
  {
   "cell_type": "code",
   "execution_count": 17,
   "metadata": {},
   "outputs": [],
   "source": [
    "import turtle as tt\n",
    "a1=tt.Turtle()\n",
    "tt.forward(200)\n",
    "tt.done()"
   ]
  },
  {
   "cell_type": "code",
   "execution_count": 34,
   "metadata": {},
   "outputs": [],
   "source": [
    "import turtle as tt\n",
    "a1=tt.Turtle()\n",
    "tt.forward(50)\n",
    "tt.left(200)\n",
    "tt.backward(90)\n",
    "tt.right(100)\n",
    "tt.done()"
   ]
  },
  {
   "cell_type": "code",
   "execution_count": 36,
   "metadata": {},
   "outputs": [],
   "source": [
    "import turtle as tt\n",
    "a1=tt.Turtle()\n",
    "a1.backward(150)\n",
    "a1.left(90)\n",
    "\n",
    "a1.backward(150)\n",
    "a1.left(90)\n",
    "\n",
    "a1.backward(150)\n",
    "a1.left(90)\n",
    "\n",
    "a1.backward(150)\n",
    "a1.left(90)\n",
    "\n",
    "tt.done()"
   ]
  },
  {
   "cell_type": "code",
   "execution_count": 47,
   "metadata": {},
   "outputs": [],
   "source": [
    "import turtle as tt\n",
    "a1=tt.Turtle()\n",
    "\n",
    "for x in range(4): \n",
    "    a1.backward(150)\n",
    "    a1.left(50)\n",
    "tt.done(())    "
   ]
  },
  {
   "cell_type": "code",
   "execution_count": 50,
   "metadata": {},
   "outputs": [],
   "source": [
    "import turtle as tt\n",
    "a1=tt.Turtle()\n",
    "\n",
    "for x in range(50): \n",
    "    a1.forward(50)\n",
    "    a1.right(144)\n",
    "tt.done()    "
   ]
  },
  {
   "cell_type": "code",
   "execution_count": null,
   "metadata": {},
   "outputs": [],
   "source": [
    "import turtle as tt\n",
    "a1=tt.Turtle()\n",
    "a1.pencolor(\"orange\")\n",
    "for i in range(50): \n",
    "    a1.forward(50)\n",
    "    a1.left(123)\n",
    "\n",
    "a1.pencolor(\"purple\") \n",
    "for i in range(50): \n",
    "    a1.backward(50)\n",
    "    a1.right(123)\n",
    "    \n",
    "a1.pencolor(\"blue\") \n",
    "for i in range(50): \n",
    "    a1.backward(50)\n",
    "    a1.left(123)\n",
    "    \n",
    "a1.pencolor(\"red\") \n",
    "for i in range(50): \n",
    "    a1.forward(50)\n",
    "    a1.right(123)  \n",
    "\n",
    "tt.done()    "
   ]
  },
  {
   "cell_type": "code",
   "execution_count": 2,
   "metadata": {},
   "outputs": [],
   "source": [
    "import turtle as tt\n",
    "\n",
    "colors=['red','blue','purple','orange','green','yellow']\n",
    "\n",
    "a1=tt.Turtle()\n",
    "\n",
    "for x in range(360):\n",
    "    a1.pencolor(colors[x%6])\n",
    "    a1.width(x/100+1)\n",
    "    a1.forward(x)\n",
    "    a1.left(59)\n",
    "    \n",
    "tt.done()    "
   ]
  },
  {
   "cell_type": "code",
   "execution_count": null,
   "metadata": {},
   "outputs": [],
   "source": []
  }
 ],
 "metadata": {
  "kernelspec": {
   "display_name": "Python 3",
   "language": "python",
   "name": "python3"
  },
  "language_info": {
   "codemirror_mode": {
    "name": "ipython",
    "version": 3
   },
   "file_extension": ".py",
   "mimetype": "text/x-python",
   "name": "python",
   "nbconvert_exporter": "python",
   "pygments_lexer": "ipython3",
   "version": "3.7.3"
  }
 },
 "nbformat": 4,
 "nbformat_minor": 2
}
